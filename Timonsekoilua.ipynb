{
 "cells": [
  {
   "cell_type": "markdown",
   "metadata": {},
   "source": [
    "# Tervetuloa käyttämään Jupyter Notebookeja"
   ]
  },
  {
   "cell_type": "markdown",
   "metadata": {},
   "source": [
    "Notebookit ovat interaktiivisia tiedostoja, joiden avulla voi tehdä monenlaisia asioita oppilaiden kanssa. Tässä harjoitteessa tutustumme hieman niiden ominaisuuksiin."
   ]
  },
  {
   "cell_type": "markdown",
   "metadata": {},
   "source": [
    "### Mikä, miksi?"
   ]
  },
  {
   "cell_type": "markdown",
   "metadata": {},
   "source": [
    "Notebookeilla voi melko vaivattomasti yhdistellä tekstiä, kuvia ja ohjelmointikoodia. Tämä mahdollistaa sen, että niillä voidaan tehdä monipuolisia harjoitteita samalla, kun tarjotaan intuitiivinen ja käyttöliittymältään helppo tapa tutustua ohjelmointiin. Yksi tärkeä valtti on myös käyttöönoton helppous: notebookeja voidaan ajaa [Binderin](www.mybinder.org) avulla suoraan verkkoselaimessa muutamassa minuutissa ilman, että kenenkään tarvitsee asentaa mitään. Binder luo annetusta hakemistosta kopion virtuaaliselle työympäristölle, jossa opiskelija voi vapaasti muokata sitä ja kokeilla erilaisia asioita ilman että alkuperäinen tiedosto muuttuu.\n",
    "\n",
    "Jupyter tukee kymmeniä ohjelmointikieliä, kuten C++:aa tai Rubya, mutta tällä kertaa keskitymme käyttämään pythonia. Python on yleisesti tieteellisessä laskennassakin käytetty ja moneen taipuva kieli, jolla voidaan tehdä suunnilleen kaikkea mitä lukiotason matemaattisilta vaatimuksilta voidaan olettaa."
   ]
  },
  {
   "cell_type": "markdown",
   "metadata": {},
   "source": [
    "### Miten?"
   ]
  },
  {
   "cell_type": "markdown",
   "metadata": {},
   "source": [
    "Kokeile! Klikkaa osia tästä tekstistä.\n",
    "\n",
    "Kuten ehkä huomaat, tämä dokumentti on jaettu *soluihin*. Kuhunkin soluun voi laittaa joko tekstiä (markdown) tai koodia. Soluja klikkailemalla näet, millaisilla merkinnöillä niiden muotoilu on tehty, kuten **tämä lihavointi tässä**. Tarkempia ohjeita löydät [täältä](https://github.com/cms-opendata-education/cms-jupyter-materials-finnish/blob/master/Johdatus-jupyteriin/Jupyter-aloitus.ipynb), mutta tärkeimmät pikaohjeet löydät alta. "
   ]
  },
  {
   "cell_type": "markdown",
   "metadata": {},
   "source": [
    "### Aloitellaas puuhastelu"
   ]
  },
  {
   "cell_type": "markdown",
   "metadata": {},
   "source": [
    "Tietokoneet ovat paljon ihmistä yksinkertaisempia. Jotta ne ymmärtävät mitä ovat laskemassa, niille täytyy kertoa hyvin tarkkaan mitä ollaan tekemässä. Alustetaan ensin vähän tietokonettamme valikoimalla sille käyttöön muutama Pythonin tarvitsema paketti. Huomaa, että kukin koodinpätkä on tässä Notebookissa omana solunaan, jonka saat *ajettua* valitsemalla sen hiirellä ja painamalla *Ctrl+Enter*. Kun vieressä olevassa In [ ] -kohdassa näkyy * , koodia ajetaan. Jos siinä näkyy numero, solu on ajettu.\n",
    "\n",
    "Aja soluja mieluiten ensin järjestyksessä, jotta tietokone ymmärtää muuttujat oikein. Sen jälkeen voit alkaa vapaasti leikkimään ja kokeilemaan mitä koodilla saakaan aikaan. Jos kuitenkin saat notebookin jotenkin solmuun, paina yläriviltä \"Kernel\"-valikosta *Restart & Clear Output*, joka pyyhkii muutokset.\n",
    "\n",
    "Alla oleva ensimmäinen koodisolu on tärkeä, ilman sitä muut eivät välttämättä toimi. **Aja se aina ensin!**\n"
   ]
  },
  {
   "cell_type": "code",
   "execution_count": 156,
   "metadata": {},
   "outputs": [],
   "source": [
    "# Olen koodisolu! Risuaidalla merkattu rivi on kommentti, joka tekee koodista ihmiselle luettavampaa.\n",
    "# Aja tämä solu ensin, jotta python tietää mitä sillä ollaan tekemässä (eli haetaan sopivat paketit).\n",
    "\n",
    "import pandas as pd\n",
    "import numpy as np\n",
    "import matplotlib.pyplot as plt\n",
    "import random as rand\n",
    "import math \n",
    "\n",
    "%matplotlib inline\n"
   ]
  },
  {
   "cell_type": "markdown",
   "metadata": {},
   "source": [
    "Alla on pari yksinkertaista harjoitetta, joilla esitellään vähän työkalun toimintaa. "
   ]
  },
  {
   "cell_type": "markdown",
   "metadata": {},
   "source": [
    "### 1. Peruslaskentaa"
   ]
  },
  {
   "cell_type": "code",
   "execution_count": 64,
   "metadata": {},
   "outputs": [
    {
     "name": "stdout",
     "output_type": "stream",
     "text": [
      "4\n",
      "10\n",
      "[2, 10]\n"
     ]
    }
   ],
   "source": [
    "print(2+2)\n",
    "\n",
    "print(2*5)\n",
    "\n",
    "lukuja = [2,10]\n",
    "print(lukuja)\n",
    "\n",
    "# Ajettuasi solun kokeile muokata sitä. Vaihda numeroita toisiksi, käytä eri laskutoimituksia, jne."
   ]
  },
  {
   "cell_type": "code",
   "execution_count": 65,
   "metadata": {},
   "outputs": [
    {
     "name": "stdout",
     "output_type": "stream",
     "text": [
      "Päivän voittoarpa on: 22\n"
     ]
    }
   ],
   "source": [
    "# Mikseipä tekstiäkin.\n",
    "\n",
    "lottoarpa = rand.randint(1,100)\n",
    "teksti = 'Päivän voittoarpa on: '\n",
    "print (teksti + repr(lottoarpa))"
   ]
  },
  {
   "cell_type": "markdown",
   "metadata": {},
   "source": [
    "### 2. Kuvaajien tekoa"
   ]
  },
  {
   "cell_type": "markdown",
   "metadata": {},
   "source": [
    "Kuvaajat ovat äärimmäisen käyttökelpoisia opetustyökaluja, mutta niiden tekeminen vie usein turhan pitkään opetustilanteessa. Jupyterin avulla niitä on nopeaa ja helppoa tehdä joko kirjoittamalla itse tai antamalla tietokoneen lukea tiedosto, johon tuloksia on tallennettu."
   ]
  },
  {
   "cell_type": "code",
   "execution_count": 66,
   "metadata": {},
   "outputs": [
    {
     "data": {
      "image/png": "[encoded data removed]",
      "text/plain": [
       "<Figure size 432x288 with 1 Axes>"
      ]
     },
     "metadata": {},
     "output_type": "display_data"
    }
   ],
   "source": [
    "numeroita = [1,2,3,6,7,8,12,16]\n",
    "plt.plot(numeroita, 'b*')\n",
    "plt.show()\n",
    "\n",
    "# Mitä jos vaihdat 'numeroita'-muuttujan sisällä olevia lukuja? Mitä käy jos kokeilet plot-funktion argumentiksi 'bo':n\n",
    "# sijaan vaikkapa 'rs' tai 'go'?"
   ]
  },
  {
   "cell_type": "code",
   "execution_count": 67,
   "metadata": {},
   "outputs": [
    {
     "data": {
      "image/png": "[encoded data removed]",
      "text/plain": [
       "<Figure size 432x288 with 1 Axes>"
      ]
     },
     "metadata": {},
     "output_type": "display_data"
    }
   ],
   "source": [
    "# Määritellään muuttuja.\n",
    "\n",
    "ikavuodet = [14,15,14,16,17,16,14,15,16,16,14,15,15,12,34,12,15,16,16]\n",
    "\n",
    "# Piirretään histogrammi. Jos muutit ikävuosia, saatat joutua muuttamaan tästä osaa 'range'. Tai poistamaan sen?\n",
    "\n",
    "plt.hist(ikavuodet, bins=100, range=(10,40))\n",
    "\n",
    "# Näillä riveillä ainoastaan määritellään otsikko sekä akseleiden tekstit.\n",
    "\n",
    "plt.xlabel('Ikävuodet')\n",
    "plt.ylabel('Lukumäärä')\n",
    "plt.title('Porukan ikäjakauma \\n') # \\n luo uuden rivin otsikon muotoilua varten\n",
    "\n",
    "# Tehdään kuvaaja näkyväksi näin.\n",
    "\n",
    "plt.show()"
   ]
  },
  {
   "cell_type": "markdown",
   "metadata": {},
   "source": [
    "### 3. Kuvaajien tekoa (tiedostosta)"
   ]
  },
  {
   "cell_type": "markdown",
   "metadata": {},
   "source": [
    "Haetaan tähän jotain dataa tutkittavaksi, esimerkiksi auringon aktiivisuudesta vuodesta 1992 tähän päivään. Datassa ei tullut mukana selitteitä, mutta [täältä](http://sidc.oma.be/silso/infosndhem) nähdään mitä kukin sarake tarkoittaa. Tarkastellaan niistä nyt auringonpilkkujen määrää: sarakkeessa 4 on päivän koko määrä, sarakkeessa 5 pohjoinen puolisko ja 6 eteläinen. Luku on efektiivinen eikä absoluuttinen, sillä isommat pilkut vastaavat montaa pienempää kun lasketaan Auringon aktiivisuutta."
   ]
  },
  {
   "cell_type": "code",
   "execution_count": 68,
   "metadata": {},
   "outputs": [],
   "source": [
    "aurinko = pd.read_table('http://sidc.oma.be/silso/INFO/sndhemcsv.php', sep=';', encoding = \"ISO-8859-1\", header=-1)"
   ]
  },
  {
   "cell_type": "code",
   "execution_count": 69,
   "metadata": {},
   "outputs": [
    {
     "data": {
      "text/html": [
       "<div>\n",
       "<style scoped>\n",
       "    .dataframe tbody tr th:only-of-type {\n",
       "        vertical-align: middle;\n",
       "    }\n",
       "\n",
       "    .dataframe tbody tr th {\n",
       "        vertical-align: top;\n",
       "    }\n",
       "\n",
       "    .dataframe thead th {\n",
       "        text-align: right;\n",
       "    }\n",
       "</style>\n",
       "<table border=\"1\" class=\"dataframe\">\n",
       "  <thead>\n",
       "    <tr style=\"text-align: right;\">\n",
       "      <th></th>\n",
       "      <th>0</th>\n",
       "      <th>1</th>\n",
       "      <th>2</th>\n",
       "      <th>3</th>\n",
       "      <th>4</th>\n",
       "      <th>5</th>\n",
       "      <th>6</th>\n",
       "      <th>7</th>\n",
       "      <th>8</th>\n",
       "      <th>9</th>\n",
       "      <th>10</th>\n",
       "      <th>11</th>\n",
       "      <th>12</th>\n",
       "      <th>13</th>\n",
       "    </tr>\n",
       "  </thead>\n",
       "  <tbody>\n",
       "    <tr>\n",
       "      <th>0</th>\n",
       "      <td>1992</td>\n",
       "      <td>1</td>\n",
       "      <td>1</td>\n",
       "      <td>1992.001</td>\n",
       "      <td>186</td>\n",
       "      <td>0</td>\n",
       "      <td>186</td>\n",
       "      <td>14.3</td>\n",
       "      <td>1.0</td>\n",
       "      <td>14.3</td>\n",
       "      <td>19</td>\n",
       "      <td>-1</td>\n",
       "      <td>-1</td>\n",
       "      <td>1</td>\n",
       "    </tr>\n",
       "    <tr>\n",
       "      <th>1</th>\n",
       "      <td>1992</td>\n",
       "      <td>1</td>\n",
       "      <td>2</td>\n",
       "      <td>1992.004</td>\n",
       "      <td>190</td>\n",
       "      <td>18</td>\n",
       "      <td>172</td>\n",
       "      <td>8.2</td>\n",
       "      <td>2.6</td>\n",
       "      <td>7.8</td>\n",
       "      <td>21</td>\n",
       "      <td>-1</td>\n",
       "      <td>-1</td>\n",
       "      <td>1</td>\n",
       "    </tr>\n",
       "    <tr>\n",
       "      <th>2</th>\n",
       "      <td>1992</td>\n",
       "      <td>1</td>\n",
       "      <td>3</td>\n",
       "      <td>1992.007</td>\n",
       "      <td>234</td>\n",
       "      <td>26</td>\n",
       "      <td>208</td>\n",
       "      <td>18.3</td>\n",
       "      <td>6.1</td>\n",
       "      <td>17.2</td>\n",
       "      <td>21</td>\n",
       "      <td>-1</td>\n",
       "      <td>-1</td>\n",
       "      <td>1</td>\n",
       "    </tr>\n",
       "    <tr>\n",
       "      <th>3</th>\n",
       "      <td>1992</td>\n",
       "      <td>1</td>\n",
       "      <td>4</td>\n",
       "      <td>1992.010</td>\n",
       "      <td>243</td>\n",
       "      <td>54</td>\n",
       "      <td>189</td>\n",
       "      <td>14.8</td>\n",
       "      <td>7.0</td>\n",
       "      <td>13.0</td>\n",
       "      <td>20</td>\n",
       "      <td>-1</td>\n",
       "      <td>-1</td>\n",
       "      <td>1</td>\n",
       "    </tr>\n",
       "    <tr>\n",
       "      <th>4</th>\n",
       "      <td>1992</td>\n",
       "      <td>1</td>\n",
       "      <td>5</td>\n",
       "      <td>1992.012</td>\n",
       "      <td>242</td>\n",
       "      <td>58</td>\n",
       "      <td>184</td>\n",
       "      <td>13.8</td>\n",
       "      <td>6.8</td>\n",
       "      <td>12.0</td>\n",
       "      <td>18</td>\n",
       "      <td>-1</td>\n",
       "      <td>-1</td>\n",
       "      <td>1</td>\n",
       "    </tr>\n",
       "  </tbody>\n",
       "</table>\n",
       "</div>"
      ],
      "text/plain": [
       "     0   1   2         3    4   5    6     7    8     9   10  11  12  13\n",
       "0  1992   1   1  1992.001  186   0  186  14.3  1.0  14.3  19  -1  -1   1\n",
       "1  1992   1   2  1992.004  190  18  172   8.2  2.6   7.8  21  -1  -1   1\n",
       "2  1992   1   3  1992.007  234  26  208  18.3  6.1  17.2  21  -1  -1   1\n",
       "3  1992   1   4  1992.010  243  54  189  14.8  7.0  13.0  20  -1  -1   1\n",
       "4  1992   1   5  1992.012  242  58  184  13.8  6.8  12.0  18  -1  -1   1"
      ]
     },
     "execution_count": 69,
     "metadata": {},
     "output_type": "execute_result"
    }
   ],
   "source": [
    "# Katsotaan miltä data näyttää.\n",
    "\n",
    "aurinko.head()"
   ]
  },
  {
   "cell_type": "code",
   "execution_count": 70,
   "metadata": {},
   "outputs": [
    {
     "data": {
      "image/png": "[encoded data removed]",
      "text/plain": [
       "<Figure size 1080x288 with 1 Axes>"
      ]
     },
     "metadata": {},
     "output_type": "display_data"
    }
   ],
   "source": [
    "# Piirretään aika-määrä -kuvaaja.\n",
    "\n",
    "fig = plt.figure(figsize=(15, 4))\n",
    "plt.scatter(aurinko[3],aurinko[4], s=0.1)\n",
    "\n",
    "# Otsikoidaan se.\n",
    "\n",
    "plt.title(\"Auringonpilkkujen aktiivisuus \\n\")\n",
    "plt.ylabel('Päivittäisten pilkkujen lukumäärä')\n",
    "plt.xlabel('Vuosi')\n",
    "\n",
    "plt.show()"
   ]
  },
  {
   "cell_type": "code",
   "execution_count": null,
   "metadata": {},
   "outputs": [],
   "source": [
    "# Tarkastellaan erikseen pohjoista ja eteläistä puoliskoa Auringosta.\n",
    "# Piirretään aika-määrä -kuvaajat.\n",
    "\n",
    "fig = plt.figure(figsize=(15, 4))\n",
    "plt.scatter(aurinko[3],aurinko[5], s=0.5, label='Pohjoinen', alpha=0.5)\n",
    "plt.scatter(aurinko[3],aurinko[6], s=0.5, label='Eteläinen', alpha=0.5)\n",
    "\n",
    "# Otsikoidaan ne.\n",
    "\n",
    "plt.title(\"Auringonpilkkujen aktiivisuus \\n\")\n",
    "plt.ylabel('Päivittäisten pilkkujen lukumäärä')\n",
    "plt.xlabel('Vuosi')\n",
    "\n",
    "plt.legend(loc='upper right')\n",
    "\n",
    "plt.show()"
   ]
  },
  {
   "cell_type": "markdown",
   "metadata": {},
   "source": [
    "### 4. Omaa puuhaa"
   ]
  },
  {
   "cell_type": "markdown",
   "metadata": {},
   "source": [
    "Kirjoita tähän jotain omiin mielenkiinnon kohteisiisi liittyvää. Hae Googlella kuva tai pari ja kokeile miten ne sopivat tekstin sekaan."
   ]
  },
  {
   "cell_type": "code",
   "execution_count": null,
   "metadata": {},
   "outputs": [],
   "source": [
    "# Kirjoita tähän jokin komento."
   ]
  },
  {
   "cell_type": "code",
   "execution_count": 71,
   "metadata": {},
   "outputs": [
    {
     "data": {
      "text/html": [
       "<div>\n",
       "<style scoped>\n",
       "    .dataframe tbody tr th:only-of-type {\n",
       "        vertical-align: middle;\n",
       "    }\n",
       "\n",
       "    .dataframe tbody tr th {\n",
       "        vertical-align: top;\n",
       "    }\n",
       "\n",
       "    .dataframe thead th {\n",
       "        text-align: right;\n",
       "    }\n",
       "</style>\n",
       "<table border=\"1\" class=\"dataframe\">\n",
       "  <thead>\n",
       "    <tr style=\"text-align: right;\">\n",
       "      <th></th>\n",
       "      <th>Run</th>\n",
       "      <th>Event</th>\n",
       "      <th>type1</th>\n",
       "      <th>E1</th>\n",
       "      <th>px1</th>\n",
       "      <th>py1</th>\n",
       "      <th>pz1</th>\n",
       "      <th>pt1</th>\n",
       "      <th>eta1</th>\n",
       "      <th>phi1</th>\n",
       "      <th>...</th>\n",
       "      <th>type2</th>\n",
       "      <th>E2</th>\n",
       "      <th>px2</th>\n",
       "      <th>py2</th>\n",
       "      <th>pz2</th>\n",
       "      <th>pt2</th>\n",
       "      <th>eta2</th>\n",
       "      <th>phi2</th>\n",
       "      <th>Q2</th>\n",
       "      <th>M</th>\n",
       "    </tr>\n",
       "  </thead>\n",
       "  <tbody>\n",
       "    <tr>\n",
       "      <th>0</th>\n",
       "      <td>165617</td>\n",
       "      <td>74601703</td>\n",
       "      <td>G</td>\n",
       "      <td>9.6987</td>\n",
       "      <td>-9.5104</td>\n",
       "      <td>0.3662</td>\n",
       "      <td>1.8633</td>\n",
       "      <td>9.5175</td>\n",
       "      <td>0.1945</td>\n",
       "      <td>3.1031</td>\n",
       "      <td>...</td>\n",
       "      <td>G</td>\n",
       "      <td>9.7633</td>\n",
       "      <td>7.3277</td>\n",
       "      <td>-1.1524</td>\n",
       "      <td>6.3473</td>\n",
       "      <td>7.4178</td>\n",
       "      <td>0.7756</td>\n",
       "      <td>-0.1560</td>\n",
       "      <td>1</td>\n",
       "      <td>17.4922</td>\n",
       "    </tr>\n",
       "    <tr>\n",
       "      <th>1</th>\n",
       "      <td>165617</td>\n",
       "      <td>75100943</td>\n",
       "      <td>G</td>\n",
       "      <td>6.2039</td>\n",
       "      <td>-4.2666</td>\n",
       "      <td>0.4565</td>\n",
       "      <td>-4.4793</td>\n",
       "      <td>4.2910</td>\n",
       "      <td>-0.9121</td>\n",
       "      <td>3.0350</td>\n",
       "      <td>...</td>\n",
       "      <td>G</td>\n",
       "      <td>9.6690</td>\n",
       "      <td>7.2740</td>\n",
       "      <td>-2.8211</td>\n",
       "      <td>-5.7104</td>\n",
       "      <td>7.8019</td>\n",
       "      <td>-0.6786</td>\n",
       "      <td>-0.3700</td>\n",
       "      <td>1</td>\n",
       "      <td>11.5534</td>\n",
       "    </tr>\n",
       "    <tr>\n",
       "      <th>2</th>\n",
       "      <td>165617</td>\n",
       "      <td>75587682</td>\n",
       "      <td>G</td>\n",
       "      <td>19.2892</td>\n",
       "      <td>-4.2121</td>\n",
       "      <td>-0.6516</td>\n",
       "      <td>18.8121</td>\n",
       "      <td>4.2622</td>\n",
       "      <td>2.1905</td>\n",
       "      <td>-2.9881</td>\n",
       "      <td>...</td>\n",
       "      <td>G</td>\n",
       "      <td>9.8244</td>\n",
       "      <td>4.3439</td>\n",
       "      <td>-0.4735</td>\n",
       "      <td>8.7985</td>\n",
       "      <td>4.3697</td>\n",
       "      <td>1.4497</td>\n",
       "      <td>-0.1086</td>\n",
       "      <td>1</td>\n",
       "      <td>9.1636</td>\n",
       "    </tr>\n",
       "    <tr>\n",
       "      <th>3</th>\n",
       "      <td>165617</td>\n",
       "      <td>75660978</td>\n",
       "      <td>G</td>\n",
       "      <td>7.0427</td>\n",
       "      <td>-6.3268</td>\n",
       "      <td>-0.2685</td>\n",
       "      <td>3.0802</td>\n",
       "      <td>6.3325</td>\n",
       "      <td>0.4690</td>\n",
       "      <td>-3.0992</td>\n",
       "      <td>...</td>\n",
       "      <td>G</td>\n",
       "      <td>5.5857</td>\n",
       "      <td>4.4748</td>\n",
       "      <td>0.8489</td>\n",
       "      <td>-3.2319</td>\n",
       "      <td>4.5546</td>\n",
       "      <td>-0.6605</td>\n",
       "      <td>0.1875</td>\n",
       "      <td>1</td>\n",
       "      <td>12.4774</td>\n",
       "    </tr>\n",
       "    <tr>\n",
       "      <th>4</th>\n",
       "      <td>165617</td>\n",
       "      <td>75947690</td>\n",
       "      <td>G</td>\n",
       "      <td>7.2751</td>\n",
       "      <td>0.1030</td>\n",
       "      <td>-5.5331</td>\n",
       "      <td>-4.7212</td>\n",
       "      <td>5.5340</td>\n",
       "      <td>-0.7736</td>\n",
       "      <td>-1.5522</td>\n",
       "      <td>...</td>\n",
       "      <td>G</td>\n",
       "      <td>7.3181</td>\n",
       "      <td>-0.3988</td>\n",
       "      <td>6.9408</td>\n",
       "      <td>2.2825</td>\n",
       "      <td>6.9523</td>\n",
       "      <td>0.3227</td>\n",
       "      <td>1.6282</td>\n",
       "      <td>1</td>\n",
       "      <td>14.3159</td>\n",
       "    </tr>\n",
       "  </tbody>\n",
       "</table>\n",
       "<p>5 rows × 21 columns</p>\n",
       "</div>"
      ],
      "text/plain": [
       "      Run     Event type1       E1     px1     py1      pz1     pt1    eta1  \\\n",
       "0  165617  74601703     G   9.6987 -9.5104  0.3662   1.8633  9.5175  0.1945   \n",
       "1  165617  75100943     G   6.2039 -4.2666  0.4565  -4.4793  4.2910 -0.9121   \n",
       "2  165617  75587682     G  19.2892 -4.2121 -0.6516  18.8121  4.2622  2.1905   \n",
       "3  165617  75660978     G   7.0427 -6.3268 -0.2685   3.0802  6.3325  0.4690   \n",
       "4  165617  75947690     G   7.2751  0.1030 -5.5331  -4.7212  5.5340 -0.7736   \n",
       "\n",
       "     phi1   ...     type2      E2     px2     py2     pz2     pt2    eta2  \\\n",
       "0  3.1031   ...         G  9.7633  7.3277 -1.1524  6.3473  7.4178  0.7756   \n",
       "1  3.0350   ...         G  9.6690  7.2740 -2.8211 -5.7104  7.8019 -0.6786   \n",
       "2 -2.9881   ...         G  9.8244  4.3439 -0.4735  8.7985  4.3697  1.4497   \n",
       "3 -3.0992   ...         G  5.5857  4.4748  0.8489 -3.2319  4.5546 -0.6605   \n",
       "4 -1.5522   ...         G  7.3181 -0.3988  6.9408  2.2825  6.9523  0.3227   \n",
       "\n",
       "     phi2  Q2        M  \n",
       "0 -0.1560   1  17.4922  \n",
       "1 -0.3700   1  11.5534  \n",
       "2 -0.1086   1   9.1636  \n",
       "3  0.1875   1  12.4774  \n",
       "4  1.6282   1  14.3159  \n",
       "\n",
       "[5 rows x 21 columns]"
      ]
     },
     "execution_count": 71,
     "metadata": {},
     "output_type": "execute_result"
    }
   ],
   "source": [
    "# Kirjoita tähän jokin komento.\n",
    "kaksoismyonit = pd.read_csv('../Data/Dimuon_DoubleMu.csv')\n",
    "# Jos haluaisi käyttää suoraa urlia, sijoita tämä 'http://opendata.cern.ch/record/545/files/Dimuon_DoubleMu.csv'\n",
    "# nimen tilalle.\n",
    "kaksoismyonit.head()"
   ]
  },
  {
   "cell_type": "code",
   "execution_count": 111,
   "metadata": {},
   "outputs": [
    {
     "data": {
      "text/plain": [
       "<matplotlib.legend.Legend at 0x7f345f5c0b38>"
      ]
     },
     "execution_count": 111,
     "metadata": {},
     "output_type": "execute_result"
    },
    {
     "data": {
      "image/png": "[encoded data removed]",
      "text/plain": [
       "<Figure size 1008x360 with 1 Axes>"
      ]
     },
     "metadata": {},
     "output_type": "display_data"
    }
   ],
   "source": [
    "fig = plt.figure(figsize=(14, 5))\n",
    "plt.scatter(kaksoismyonit['E1'],kaksoismyonit['pt1'], label='E1, pt1')\n",
    "kaksoismyonit.head()\n",
    "plt.ylabel('pt1 GeV')\n",
    "plt.xlabel('E1 GeV')\n",
    "\n",
    "plt.legend(loc='upper right')"
   ]
  },
  {
   "cell_type": "code",
   "execution_count": 119,
   "metadata": {},
   "outputs": [
    {
     "name": "stdout",
     "output_type": "stream",
     "text": [
      "2.2825\n",
      "145.13154869\n",
      "212.96148624\n"
     ]
    },
    {
     "data": {
      "image/png": "[encoded data removed]",
      "text/plain": [
       "<Figure size 432x288 with 1 Axes>"
      ]
     },
     "metadata": {},
     "output_type": "display_data"
    },
    {
     "name": "stdout",
     "output_type": "stream",
     "text": [
      "99999\n",
      "100000\n",
      "0       -0.000110\n",
      "1        0.000092\n",
      "2        0.000092\n",
      "3        0.000048\n",
      "4        0.000004\n",
      "5       -0.000153\n",
      "6       -0.000052\n",
      "7       -0.000048\n",
      "8       -0.000045\n",
      "9       -0.000363\n",
      "10      -0.000128\n",
      "11       0.000026\n",
      "12      -0.002568\n",
      "13       0.000026\n",
      "14       0.000091\n",
      "15      -0.000035\n",
      "16       0.000045\n",
      "17       0.000084\n",
      "18       0.000054\n",
      "19      -0.000240\n",
      "20       0.000038\n",
      "21      -0.000008\n",
      "22       0.000100\n",
      "23      -0.002827\n",
      "24       0.000011\n",
      "25       0.000048\n",
      "26       0.000025\n",
      "27       0.000094\n",
      "28       0.000030\n",
      "29       0.000062\n",
      "           ...   \n",
      "99970    0.002189\n",
      "99971   -0.000113\n",
      "99972   -0.000755\n",
      "99973    0.005636\n",
      "99974    0.000035\n",
      "99975   -0.000090\n",
      "99976   -0.000149\n",
      "99977   -0.000011\n",
      "99978    0.000054\n",
      "99979   -0.000071\n",
      "99980   -0.000018\n",
      "99981    0.000086\n",
      "99982   -0.000024\n",
      "99983    0.000009\n",
      "99984    0.000070\n",
      "99985   -0.000099\n",
      "99986    0.000624\n",
      "99987    0.000285\n",
      "99988    0.000013\n",
      "99989    0.000330\n",
      "99990    0.000020\n",
      "99991    0.000009\n",
      "99992   -0.000053\n",
      "99993   -0.000067\n",
      "99994   -0.000020\n",
      "99995    0.000055\n",
      "99996    0.000291\n",
      "99997   -0.000013\n",
      "99998    0.000022\n",
      "99999    0.000060\n",
      "Length: 100000, dtype: float64\n",
      "14.888536137243312\n"
     ]
    }
   ],
   "source": [
    "data=kaksoismyonit\n",
    "E1=kaksoismyonit['E1']\n",
    "pt1=kaksoismyonit['pt1']\n",
    "pz1=kaksoismyonit['pz1']\n",
    "E2=kaksoismyonit['E2']\n",
    "pt2=kaksoismyonit['pt2']\n",
    "px1=kaksoismyonit['px1']\n",
    "px2=kaksoismyonit['px2']\n",
    "py1=kaksoismyonit['py1']\n",
    "py2=kaksoismyonit['py2']\n",
    "IM=kaksoismyonit['M']\n",
    "\n",
    "print(pz2[4])\n",
    "liike=(pt1[4]+pt2[4])*(pt1[4]+pt2[4]) +pz1[4]*pz2[4]\n",
    "ener4=(E1[4]+E2[4])*(E1[4]+E2[4])\n",
    "neliojuu=math.sqrt(ener4-liike)\n",
    "print(liike)\n",
    "print(ener4)\n",
    "\n",
    "massanelio2=((data.E1+data.E2)**2-((data.px1+data.px2)**2+(data.py1+data.py2)**2+(data.pz1+data.pz2)**2))\n",
    "\n",
    "positmassanlio2=massanelio2[(massanelio2>0)]\n",
    "invamassa2=np.sqrt(positmassanlio2)\n",
    "plt.plot(invamassa2)\n",
    "plt.show()\n",
    "print(len(invamassa2))\n",
    "print(len(massanelio2))\n",
    "#print(invamassa2)\n",
    "erotus=invamassa2-IM\n",
    "print(erotus)\n",
    "nelonen=np.sqrt((E1[4]+E2[4])*(E1[4]+E2[4]) - ((px1[4]+px2[4])**2+(py1[4]+py2[4])**2 +pz1[4]*pz2[4]))\n",
    "print(nelonen)\n",
    "pituus=len(E1)\n",
    "#for i in range(0,1000):\n",
    "#    massanelio[i]=((E1[i]+E2[i])*(E1[i]+E2[i]) - ((px1[i]+px2[i])**2+ (py1[i]+py2[i])**2 +pz1[i]*pz2[i]))\n",
    "\n",
    "\n",
    "#positmassanlio=massanelio[(massanelio>0)]\n",
    "#invamassa=np.sqrt(positmassanlio)\n",
    "#plt.hist(invamassa)\n",
    "#plt.show()\n",
    "#print(len(invamassa))\n",
    "#print(len(massanelio))\n",
    "\n"
   ]
  },
  {
   "cell_type": "markdown",
   "metadata": {},
   "source": [
    "Antoisaa puuhastelua Jupyterin kanssa!"
   ]
  },
  {
   "cell_type": "code",
   "execution_count": 153,
   "metadata": {},
   "outputs": [
    {
     "data": {
      "image/png": "[encoded data removed]",
      "text/plain": [
       "<Figure size 1008x360 with 1 Axes>"
      ]
     },
     "metadata": {},
     "output_type": "display_data"
    }
   ],
   "source": [
    "fig = plt.figure(figsize=(14, 5))\n",
    "plt.hist(invamassa2, bins=500, range=(0,120))\n",
    "plt.xlabel('Invariantti massa [GeV]')\n",
    "plt.ylabel('Tapahtumien lukumäärä')\n",
    "plt.title('Kahden myonin invariantin massan histogrammi \\n')   \n",
    "plt.axis([0, 120, 0, 5000])\n",
    "plt.show()\n",
    "# alla "
   ]
  },
  {
   "cell_type": "code",
   "execution_count": 142,
   "metadata": {},
   "outputs": [
    {
     "data": {
      "image/png": "[encoded data removed]",
      "text/plain": [
       "<Figure size 432x288 with 1 Axes>"
      ]
     },
     "metadata": {},
     "output_type": "display_data"
    }
   ],
   "source": [
    "plt.hist(IM, bins=500)\n",
    "plt.xlabel('Invariantti massa [GeV]')\n",
    "plt.ylabel('Tapahtumien lukumäärä')\n",
    "plt.title('Kahden myonin invariantin massan histogrammi \\n')\n",
    "plt.axis([-1, 125, 0, 5000])\n",
    "plt.show()"
   ]
  },
  {
   "cell_type": "code",
   "execution_count": null,
   "metadata": {},
   "outputs": [],
   "source": [
    "# yllä "
   ]
  },
  {
   "cell_type": "code",
   "execution_count": 96,
   "metadata": {},
   "outputs": [],
   "source": [
    "datasetti = pd.read_csv('../Data/Ymumu_Run2011A.csv')"
   ]
  },
  {
   "cell_type": "code",
   "execution_count": 97,
   "metadata": {},
   "outputs": [
    {
     "data": {
      "text/html": [
       "<div>\n",
       "<style scoped>\n",
       "    .dataframe tbody tr th:only-of-type {\n",
       "        vertical-align: middle;\n",
       "    }\n",
       "\n",
       "    .dataframe tbody tr th {\n",
       "        vertical-align: top;\n",
       "    }\n",
       "\n",
       "    .dataframe thead th {\n",
       "        text-align: right;\n",
       "    }\n",
       "</style>\n",
       "<table border=\"1\" class=\"dataframe\">\n",
       "  <thead>\n",
       "    <tr style=\"text-align: right;\">\n",
       "      <th></th>\n",
       "      <th>Run</th>\n",
       "      <th>Event</th>\n",
       "      <th>Type1</th>\n",
       "      <th>E1</th>\n",
       "      <th>px1</th>\n",
       "      <th>py1</th>\n",
       "      <th>pz1</th>\n",
       "      <th>pt1</th>\n",
       "      <th>eta1</th>\n",
       "      <th>phi1</th>\n",
       "      <th>...</th>\n",
       "      <th>Type2</th>\n",
       "      <th>E2</th>\n",
       "      <th>px2</th>\n",
       "      <th>py2</th>\n",
       "      <th>pz2</th>\n",
       "      <th>pt2</th>\n",
       "      <th>eta2</th>\n",
       "      <th>phi2</th>\n",
       "      <th>Q2</th>\n",
       "      <th>M</th>\n",
       "    </tr>\n",
       "  </thead>\n",
       "  <tbody>\n",
       "    <tr>\n",
       "      <th>0</th>\n",
       "      <td>165617</td>\n",
       "      <td>75100943</td>\n",
       "      <td>G</td>\n",
       "      <td>6.20385</td>\n",
       "      <td>-4.26661</td>\n",
       "      <td>0.456545</td>\n",
       "      <td>-4.47930</td>\n",
       "      <td>4.29097</td>\n",
       "      <td>-0.91207</td>\n",
       "      <td>3.034990</td>\n",
       "      <td>...</td>\n",
       "      <td>G</td>\n",
       "      <td>9.66898</td>\n",
       "      <td>7.27397</td>\n",
       "      <td>-2.821120</td>\n",
       "      <td>-5.710400</td>\n",
       "      <td>7.80188</td>\n",
       "      <td>-0.678625</td>\n",
       "      <td>-0.369977</td>\n",
       "      <td>1</td>\n",
       "      <td>11.55340</td>\n",
       "    </tr>\n",
       "    <tr>\n",
       "      <th>1</th>\n",
       "      <td>165617</td>\n",
       "      <td>75492770</td>\n",
       "      <td>G</td>\n",
       "      <td>16.20100</td>\n",
       "      <td>5.64702</td>\n",
       "      <td>4.154080</td>\n",
       "      <td>14.60530</td>\n",
       "      <td>7.01036</td>\n",
       "      <td>1.48032</td>\n",
       "      <td>0.634236</td>\n",
       "      <td>...</td>\n",
       "      <td>T</td>\n",
       "      <td>4.12495</td>\n",
       "      <td>3.35862</td>\n",
       "      <td>-2.238350</td>\n",
       "      <td>0.844684</td>\n",
       "      <td>4.03616</td>\n",
       "      <td>0.207781</td>\n",
       "      <td>-0.587852</td>\n",
       "      <td>1</td>\n",
       "      <td>9.46937</td>\n",
       "    </tr>\n",
       "    <tr>\n",
       "      <th>2</th>\n",
       "      <td>165617</td>\n",
       "      <td>75587682</td>\n",
       "      <td>G</td>\n",
       "      <td>19.28920</td>\n",
       "      <td>-4.21208</td>\n",
       "      <td>-0.651623</td>\n",
       "      <td>18.81210</td>\n",
       "      <td>4.26219</td>\n",
       "      <td>2.19046</td>\n",
       "      <td>-2.988110</td>\n",
       "      <td>...</td>\n",
       "      <td>G</td>\n",
       "      <td>9.82439</td>\n",
       "      <td>4.34394</td>\n",
       "      <td>-0.473505</td>\n",
       "      <td>8.798490</td>\n",
       "      <td>4.36967</td>\n",
       "      <td>1.449670</td>\n",
       "      <td>-0.108575</td>\n",
       "      <td>1</td>\n",
       "      <td>9.16361</td>\n",
       "    </tr>\n",
       "    <tr>\n",
       "      <th>3</th>\n",
       "      <td>165617</td>\n",
       "      <td>75167029</td>\n",
       "      <td>G</td>\n",
       "      <td>9.75833</td>\n",
       "      <td>2.39032</td>\n",
       "      <td>-3.782350</td>\n",
       "      <td>8.67145</td>\n",
       "      <td>4.47435</td>\n",
       "      <td>1.41558</td>\n",
       "      <td>-1.007200</td>\n",
       "      <td>...</td>\n",
       "      <td>G</td>\n",
       "      <td>13.56840</td>\n",
       "      <td>-3.39746</td>\n",
       "      <td>5.190980</td>\n",
       "      <td>12.066500</td>\n",
       "      <td>6.20395</td>\n",
       "      <td>1.418750</td>\n",
       "      <td>2.150320</td>\n",
       "      <td>1</td>\n",
       "      <td>10.53910</td>\n",
       "    </tr>\n",
       "    <tr>\n",
       "      <th>4</th>\n",
       "      <td>165617</td>\n",
       "      <td>75281957</td>\n",
       "      <td>G</td>\n",
       "      <td>9.63652</td>\n",
       "      <td>1.65156</td>\n",
       "      <td>-5.431330</td>\n",
       "      <td>7.78616</td>\n",
       "      <td>5.67688</td>\n",
       "      <td>1.12134</td>\n",
       "      <td>-1.275600</td>\n",
       "      <td>...</td>\n",
       "      <td>G</td>\n",
       "      <td>7.02632</td>\n",
       "      <td>-1.64493</td>\n",
       "      <td>4.441830</td>\n",
       "      <td>5.188670</td>\n",
       "      <td>4.73663</td>\n",
       "      <td>0.947273</td>\n",
       "      <td>1.925460</td>\n",
       "      <td>-1</td>\n",
       "      <td>10.40790</td>\n",
       "    </tr>\n",
       "  </tbody>\n",
       "</table>\n",
       "<p>5 rows × 21 columns</p>\n",
       "</div>"
      ],
      "text/plain": [
       "      Run     Event Type1        E1      px1       py1       pz1      pt1  \\\n",
       "0  165617  75100943     G   6.20385 -4.26661  0.456545  -4.47930  4.29097   \n",
       "1  165617  75492770     G  16.20100  5.64702  4.154080  14.60530  7.01036   \n",
       "2  165617  75587682     G  19.28920 -4.21208 -0.651623  18.81210  4.26219   \n",
       "3  165617  75167029     G   9.75833  2.39032 -3.782350   8.67145  4.47435   \n",
       "4  165617  75281957     G   9.63652  1.65156 -5.431330   7.78616  5.67688   \n",
       "\n",
       "      eta1      phi1    ...     Type2        E2      px2       py2        pz2  \\\n",
       "0 -0.91207  3.034990    ...         G   9.66898  7.27397 -2.821120  -5.710400   \n",
       "1  1.48032  0.634236    ...         T   4.12495  3.35862 -2.238350   0.844684   \n",
       "2  2.19046 -2.988110    ...         G   9.82439  4.34394 -0.473505   8.798490   \n",
       "3  1.41558 -1.007200    ...         G  13.56840 -3.39746  5.190980  12.066500   \n",
       "4  1.12134 -1.275600    ...         G   7.02632 -1.64493  4.441830   5.188670   \n",
       "\n",
       "       pt2      eta2      phi2  Q2         M  \n",
       "0  7.80188 -0.678625 -0.369977   1  11.55340  \n",
       "1  4.03616  0.207781 -0.587852   1   9.46937  \n",
       "2  4.36967  1.449670 -0.108575   1   9.16361  \n",
       "3  6.20395  1.418750  2.150320   1  10.53910  \n",
       "4  4.73663  0.947273  1.925460  -1  10.40790  \n",
       "\n",
       "[5 rows x 21 columns]"
      ]
     },
     "execution_count": 97,
     "metadata": {},
     "output_type": "execute_result"
    }
   ],
   "source": [
    "datasetti.head()"
   ]
  },
  {
   "cell_type": "code",
   "execution_count": 147,
   "metadata": {},
   "outputs": [
    {
     "data": {
      "image/png": "[encoded data removed]",
      "text/plain": [
       "<Figure size 432x288 with 1 Axes>"
      ]
     },
     "metadata": {},
     "output_type": "display_data"
    },
    {
     "name": "stdout",
     "output_type": "stream",
     "text": [
      "37278\n",
      "0        11.55340\n",
      "1         9.46937\n",
      "2         9.16361\n",
      "3        10.53910\n",
      "4        10.40790\n",
      "5        10.17060\n",
      "6         9.29997\n",
      "7        11.52010\n",
      "8        10.81770\n",
      "9        11.52210\n",
      "10       10.54060\n",
      "11        9.36217\n",
      "12       11.56160\n",
      "13       10.60630\n",
      "14       10.31450\n",
      "15        9.02743\n",
      "16       10.03490\n",
      "17       11.18250\n",
      "18       11.79890\n",
      "19        9.39983\n",
      "20       11.58220\n",
      "21        8.14173\n",
      "22       10.27350\n",
      "23       10.29380\n",
      "24        9.59775\n",
      "25        9.02582\n",
      "26        9.83173\n",
      "27       10.42990\n",
      "28       10.45780\n",
      "29       11.59440\n",
      "           ...   \n",
      "37248    11.09450\n",
      "37249    10.29590\n",
      "37250    11.94830\n",
      "37251    11.63840\n",
      "37252    10.02300\n",
      "37253     9.27013\n",
      "37254    10.95630\n",
      "37255     9.55857\n",
      "37256     9.90798\n",
      "37257     9.44815\n",
      "37258    10.96030\n",
      "37259    11.72030\n",
      "37260    11.73050\n",
      "37261    10.78340\n",
      "37262     9.18584\n",
      "37263    11.54510\n",
      "37264    11.13770\n",
      "37265    11.24610\n",
      "37266    10.22340\n",
      "37267    10.03470\n",
      "37268    10.69630\n",
      "37269     9.96881\n",
      "37270     9.69499\n",
      "37271    11.31780\n",
      "37272     8.29110\n",
      "37273    10.19960\n",
      "37274    11.56790\n",
      "37275     8.74952\n",
      "37276    10.54920\n",
      "37277    11.68120\n",
      "Name: M, Length: 37278, dtype: float64\n"
     ]
    }
   ],
   "source": [
    "plt.hist(datasetti.M, bins=500)\n",
    "plt.xlabel('Invariantti massa [GeV]')\n",
    "plt.ylabel('Tapahtumien lukumäärä')\n",
    "plt.title('Kahden myonin invariantin massan histogrammi \\n') \n",
    "#plt.axis([7, 15, 0, 300])\n",
    "plt.show()\n",
    "\n",
    "print(len(datasetti.M))\n",
    "print(datasetti.M)"
   ]
  },
  {
   "cell_type": "code",
   "execution_count": 158,
   "metadata": {},
   "outputs": [
    {
     "data": {
      "text/html": [
       "<div>\n",
       "<style scoped>\n",
       "    .dataframe tbody tr th:only-of-type {\n",
       "        vertical-align: middle;\n",
       "    }\n",
       "\n",
       "    .dataframe tbody tr th {\n",
       "        vertical-align: top;\n",
       "    }\n",
       "\n",
       "    .dataframe thead th {\n",
       "        text-align: right;\n",
       "    }\n",
       "</style>\n",
       "<table border=\"1\" class=\"dataframe\">\n",
       "  <thead>\n",
       "    <tr style=\"text-align: right;\">\n",
       "      <th></th>\n",
       "      <th>Run</th>\n",
       "      <th>Event</th>\n",
       "      <th>pt1</th>\n",
       "      <th>eta1</th>\n",
       "      <th>phi1</th>\n",
       "      <th>pt2</th>\n",
       "      <th>eta2</th>\n",
       "      <th>phi2</th>\n",
       "      <th>M</th>\n",
       "    </tr>\n",
       "  </thead>\n",
       "  <tbody>\n",
       "    <tr>\n",
       "      <th>0</th>\n",
       "      <td>199319</td>\n",
       "      <td>641436592</td>\n",
       "      <td>77.2006</td>\n",
       "      <td>0.250438</td>\n",
       "      <td>0.605505</td>\n",
       "      <td>60.1382</td>\n",
       "      <td>0.650821</td>\n",
       "      <td>-1.53900</td>\n",
       "      <td>122.797901</td>\n",
       "    </tr>\n",
       "    <tr>\n",
       "      <th>1</th>\n",
       "      <td>199699</td>\n",
       "      <td>336259924</td>\n",
       "      <td>64.1091</td>\n",
       "      <td>0.473667</td>\n",
       "      <td>-0.815133</td>\n",
       "      <td>58.6038</td>\n",
       "      <td>0.032018</td>\n",
       "      <td>2.58568</td>\n",
       "      <td>124.586979</td>\n",
       "    </tr>\n",
       "    <tr>\n",
       "      <th>2</th>\n",
       "      <td>201602</td>\n",
       "      <td>114902683</td>\n",
       "      <td>73.7489</td>\n",
       "      <td>0.800788</td>\n",
       "      <td>0.261020</td>\n",
       "      <td>55.9369</td>\n",
       "      <td>0.698872</td>\n",
       "      <td>3.03502</td>\n",
       "      <td>126.462830</td>\n",
       "    </tr>\n",
       "    <tr>\n",
       "      <th>3</th>\n",
       "      <td>202087</td>\n",
       "      <td>923352992</td>\n",
       "      <td>102.9550</td>\n",
       "      <td>0.979959</td>\n",
       "      <td>0.148624</td>\n",
       "      <td>76.6940</td>\n",
       "      <td>0.815527</td>\n",
       "      <td>1.67359</td>\n",
       "      <td>123.622542</td>\n",
       "    </tr>\n",
       "    <tr>\n",
       "      <th>4</th>\n",
       "      <td>203894</td>\n",
       "      <td>688901524</td>\n",
       "      <td>53.4409</td>\n",
       "      <td>-0.709665</td>\n",
       "      <td>1.642300</td>\n",
       "      <td>46.4314</td>\n",
       "      <td>0.945537</td>\n",
       "      <td>-2.71670</td>\n",
       "      <td>123.203887</td>\n",
       "    </tr>\n",
       "  </tbody>\n",
       "</table>\n",
       "</div>"
      ],
      "text/plain": [
       "      Run      Event       pt1      eta1      phi1      pt2      eta2  \\\n",
       "0  199319  641436592   77.2006  0.250438  0.605505  60.1382  0.650821   \n",
       "1  199699  336259924   64.1091  0.473667 -0.815133  58.6038  0.032018   \n",
       "2  201602  114902683   73.7489  0.800788  0.261020  55.9369  0.698872   \n",
       "3  202087  923352992  102.9550  0.979959  0.148624  76.6940  0.815527   \n",
       "4  203894  688901524   53.4409 -0.709665  1.642300  46.4314  0.945537   \n",
       "\n",
       "      phi2           M  \n",
       "0 -1.53900  122.797901  \n",
       "1  2.58568  124.586979  \n",
       "2  3.03502  126.462830  \n",
       "3  1.67359  123.622542  \n",
       "4 -2.71670  123.203887  "
      ]
     },
     "execution_count": 158,
     "metadata": {},
     "output_type": "execute_result"
    }
   ],
   "source": [
    "higgs2f = pd.read_csv('http://opendata.cern.ch/record/300/files/diphoton.csv')\n",
    "\n",
    "higgs2f.head()"
   ]
  },
  {
   "cell_type": "markdown",
   "metadata": {},
   "source": [
    " $=  M^{2}\\,} M^{2}\\, = 2 p T 1 p T 2 ( cosh ⁡ ( η 1 − η 2 ) − cos ⁡ ( ϕ 1 − ϕ 2 ) ) .  =2p_{T1}p_{T2}(\\cosh(\\eta _{1}-\\eta _{2})-\\cos(\\phi _{1}-\\phi _{2})).\\,} =2p_{T1}p_{T2}(\\cosh(\\eta _{1}-\\eta _{2})-\\cos(\\phi _{1}-\\phi _{2})).\\,M² M 2 M^{2}\\,} M^{2}\\, = 2 p T 1 p T 2 ( cosh ⁡ ( η 1 − η 2 ) − cos ⁡ ( ϕ 1 − ϕ 2 ) ) .  =2p_{T1}p_{T2}(\\cosh(\\eta _{1}-\\eta _{2})-\\cos(\\phi _{1}-\\phi _{2})).\\, =2p_{T1}p_{T2}(\\cosh(\\eta _{1}-\\eta _{2})-\\cos(\\phi _{1}-\\phi _{2})).\\,$"
   ]
  },
  {
   "cell_type": "markdown",
   "metadata": {},
   "source": [
    "$\\eta$  $\\cosh(\\phi _{1}$"
   ]
  },
  {
   "cell_type": "markdown",
   "metadata": {},
   "source": []
  },
  {
   "cell_type": "code",
   "execution_count": 164,
   "metadata": {},
   "outputs": [
    {
     "data": {
      "text/plain": [
       "10"
      ]
     },
     "execution_count": 164,
     "metadata": {},
     "output_type": "execute_result"
    }
   ],
   "source": [
    "ener=higss2f['M']\n",
    "len(higgs2f.M)\n"
   ]
  },
  {
   "cell_type": "code",
   "execution_count": 163,
   "metadata": {},
   "outputs": [
    {
     "data": {
      "image/png": "[encoded data removed]",
      "text/plain": [
       "<Figure size 432x288 with 1 Axes>"
      ]
     },
     "metadata": {},
     "output_type": "display_data"
    }
   ],
   "source": [
    "plt.hist(higgs2f.M, bins=500)\n",
    "plt.xlabel('Invariantti massa [GeV]')\n",
    "plt.ylabel('Tapahtumien lukumäärä')\n",
    "plt.title('Kahden fotonin invariantin massan histogrammi \\n') \n",
    "#plt.axis([7, 15, 0, 300])\n",
    "plt.show()\n",
    "MM = "
   ]
  },
  {
   "cell_type": "code",
   "execution_count": null,
   "metadata": {},
   "outputs": [],
   "source": []
  }
 ],
 "metadata": {
  "kernelspec": {
   "display_name": "Python 3",
   "language": "python",
   "name": "python3"
  },
  "language_info": {
   "codemirror_mode": {
    "name": "ipython",
    "version": 3
   },
   "file_extension": ".py",
   "mimetype": "text/x-python",
   "name": "python",
   "nbconvert_exporter": "python",
   "pygments_lexer": "ipython3",
   "version": "3.6.5"
  }
 },
 "nbformat": 4,
 "nbformat_minor": 2
}
